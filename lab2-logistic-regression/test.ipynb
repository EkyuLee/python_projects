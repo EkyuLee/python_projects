{
 "cells": [
  {
   "cell_type": "markdown",
   "metadata": {},
   "source": [
    "# TEST CODE"
   ]
  },
  {
   "cell_type": "code",
   "execution_count": 9,
   "metadata": {},
   "outputs": [],
   "source": [
    "import numpy as np\n",
    "import matplotlib.pyplot as plt\n",
    "import h5py\n",
    "import scipy\n",
    "from PIL import Image\n",
    "from scipy import ndimage\n",
    "\n",
    "\"\"\"\n",
    "%matplotlib inline 이란, Jupyter Notebook에서 사용하는 매직 명령어로, \n",
    "그래프나 플롯을 코드 셀 아래에 직접 표시하도록 한다. \n",
    "그래프가 별도의 팝업창을 띄우지 않고 코드 셀 아래에 바로 출력셀로 나타난다.\n",
    "\"\"\"\n",
    "%matplotlib inline "
   ]
  },
  {
   "cell_type": "code",
   "execution_count": 20,
   "metadata": {},
   "outputs": [
    {
     "name": "stdout",
     "output_type": "stream",
     "text": [
      "\n",
      "## analysis file of [datasets/train_catvnoncat.h5] ##\n",
      "Dataset: list_classes\n",
      " - Shape: (2,)\n",
      " - Data type: |S7\n",
      "Dataset: train_set_x\n",
      " - Shape: (209, 64, 64, 3)\n",
      " - Data type: uint8\n",
      "Dataset: train_set_y\n",
      " - Shape: (209,)\n",
      " - Data type: int64\n",
      "\n",
      "## analysis file of [datasets/test_catvnoncat.h5] ##\n",
      "Dataset: list_classes\n",
      " - Shape: (2,)\n",
      " - Data type: |S7\n",
      "Dataset: test_set_x\n",
      " - Shape: (50, 64, 64, 3)\n",
      " - Data type: uint8\n",
      "Dataset: test_set_y\n",
      " - Shape: (50,)\n",
      " - Data type: int64\n"
     ]
    }
   ],
   "source": [
    "# h5 구조를 확인하는 방법\n",
    "\"\"\"\n",
    "[구조]\n",
    "    Dataset (여러개)\n",
    "        - name\n",
    "        - shape\n",
    "        - data type(dtype)\n",
    "    Group\n",
    "        - group name\n",
    "        - sub name (여러개)\n",
    "            - name\n",
    "            - shape\n",
    "            - data type(dtype)\n",
    "\n",
    "    *요약* Dataset을 여러개 모은것을 Group으로 하고, Dataset은 단일구성이다.\n",
    "\"\"\"\n",
    "def checkH5design(file_path):\n",
    "    print(f\"\\n## analysis file of [{file_path}] ##\")\n",
    "    with h5py.File(file_path, 'r') as h5_file:\n",
    "        for name in h5_file:\n",
    "            dataset = h5_file[name]\n",
    "            if isinstance(dataset, h5py.Dataset):\n",
    "                print(f\"Dataset: {name}\")\n",
    "                print(\" - Shape:\", dataset.shape)\n",
    "                print(\" - Data type:\", dataset.dtype)\n",
    "            elif isinstance(dataset, h5py.Group):\n",
    "                print(f\"Group: {name}\")\n",
    "                print(\" - Sub-items:\")\n",
    "                for sub_name in dataset:\n",
    "                    sub_dataset = dataset[sub_name]\n",
    "                    print(f\"   - {sub_name} (Shape: {sub_dataset.shape}, Type: {sub_dataset.dtype})\")\n",
    "\n",
    "trainDataSet = 'datasets/train_catvnoncat.h5'\n",
    "testDataSet = 'datasets/test_catvnoncat.h5'\n",
    "checkH5design(trainDataSet)\n",
    "checkH5design(testDataSet)"
   ]
  },
  {
   "cell_type": "code",
   "execution_count": 29,
   "metadata": {},
   "outputs": [],
   "source": [
    "def load_dataset():\n",
    "    \"\"\"\n",
    "    # h5 확장자 파일이란?\n",
    "      - h5 파일은 계층구조로 포함된 파일 시스템과 비슷한 형태를 가지고 있다.\n",
    "        바이너리 포멧으로 데이터를 저장하기 때문에 이미지나 숫자 데이터 처럼 크고 복잡한 데이터 구조를 담을 수 있다.\n",
    "    \"\"\"\n",
    "    train_dataset = h5py.File('datasets/train_catvnoncat.h5', \"r\")\n",
    "    train_set_x_orig = np.array(train_dataset[\"train_set_x\"][:]) # your train set features\n",
    "    train_set_y_orig = np.array(train_dataset[\"train_set_y\"][:]) # your train set labels\n",
    "    #print(train_set_y_orig.shape)\n",
    "\n",
    "    test_dataset = h5py.File('datasets/test_catvnoncat.h5', \"r\")\n",
    "    test_set_x_orig = np.array(test_dataset[\"test_set_x\"][:]) # your test set features\n",
    "    test_set_y_orig = np.array(test_dataset[\"test_set_y\"][:]) # your test set labels\n",
    "\n",
    "    \"\"\"\n",
    "    # h5 파일에 list_classes 데이터 셋을 넣은 이유?\n",
    "      - *[코드 가독성 향상]* *클래스 레이블을 더 명확하고 직관적*으로 이해할 수 있도록 하기 위함이다.\n",
    "        예를 들어 train_set_y 0과 1은 인간이 이해하기 어려운 내용이므로, list_classes 라는 클래스 레이블을만들어서 \n",
    "        직관적으로 이해할 수 있도록 한다.\n",
    "      - *[데이터셋 재사용성]* 데이터셋에 새로운 클래스가 추가되거나, 클래스 레이블이 여러 개로 확장될 경우 0,1 과 같은\n",
    "        숫자형 레이블 대신, 문자열 기반의 클래스명을 직접 사용하여 코드의 수정 없이 의미를 명확하게 전달할 수 있다.\n",
    "    \"\"\"\n",
    "    classes = np.array(test_dataset[\"list_classes\"][:]) # the list of classes\n",
    "    \n",
    "    train_set_y_orig = train_set_y_orig.reshape((1, train_set_y_orig.shape[0]))\n",
    "    test_set_y_orig = test_set_y_orig.reshape((1, test_set_y_orig.shape[0]))\n",
    "\n",
    "    \"\"\" \n",
    "    # reshape 하는 이유 ? \n",
    "      - 코드를 편리하게 사용하기 위함이다. \n",
    "      - 예를 들어 (209, ) shape의 array의 경우 1차원 배열이지만, (1, 209) 의 경우 2차원 배열이라 재사용성이나 가독성에 뛰어나다.\n",
    "    \"\"\"\n",
    "    \n",
    "    #print(\"<reshape>\")\n",
    "    #print(train_set_y_orig.shape)\n",
    "    #print(train_set_y_orig)\n",
    "    #print(train_set_y_orig[0])\n",
    "    return train_set_x_orig, train_set_y_orig, test_set_x_orig, test_set_y_orig, classes\n"
   ]
  },
  {
   "cell_type": "code",
   "execution_count": 15,
   "metadata": {},
   "outputs": [
    {
     "name": "stdout",
     "output_type": "stream",
     "text": [
      "(209, 64, 64, 3)\n",
      "(1, 209)\n",
      "(50, 64, 64, 3)\n",
      "(1, 50)\n",
      "(2,)\n",
      "[b'non-cat' b'cat']\n",
      "[[0 0 1 0 0 0 0 1 0 0 0 1 0 1 1 0 0 0 0 1 0 0 0 0 1 1 0 1 0 1 0 0 0 0 0 0\n",
      "  0 0 1 0 0 1 1 0 0 0 0 1 0 0 1 0 0 0 1 0 1 1 0 1 1 1 0 0 0 0 0 0 1 0 0 1\n",
      "  0 0 0 0 0 0 0 0 0 0 0 1 1 0 0 0 1 0 0 0 1 1 1 0 0 1 0 0 0 0 1 0 1 0 1 1\n",
      "  1 1 1 1 0 0 0 0 0 1 0 0 0 1 0 0 1 0 1 0 1 1 0 0 0 1 1 1 1 1 0 0 0 0 1 0\n",
      "  1 1 1 0 1 1 0 0 0 1 0 0 1 0 0 0 0 0 1 0 1 0 1 0 0 1 1 1 0 0 1 1 0 1 0 1\n",
      "  0 0 0 0 0 1 0 0 1 0 0 0 1 0 0 0 0 1 0 0 1 0 0 0 0 0 0 0 0]]\n"
     ]
    }
   ],
   "source": [
    "# Loading the data (cat/ non-cat)\n",
    "train_set_x_orig, train_set_y, test_set_x_orig, test_set_y, classes = load_dataset()\n",
    "\"\"\"\n",
    "    <train data set>\n",
    "    train_set_x_orig = example datas\n",
    "    train_set_y = example labeling data\n",
    "\n",
    "    <test data set>\n",
    "    test_set_x_orig = test image data\n",
    "    test_set_y = test labeling data\n",
    "\"\"\"\n",
    "\n",
    "\"\"\"\n",
    "    첫 번째 차원 (1): 이미지 개수를 나타내며, 이 경우 1개의 이미지만 포함하고 있습니다.\n",
    "    두 번째 차원 (64): 이미지의 **세로(높이)**에 해당하며, 픽셀 위치를 나타냅니다.\n",
    "    세 번째 차원 (64): 이미지의 **가로(너비)**에 해당하며, 역시 픽셀 위치를 나타냅니다.\n",
    "    네 번째 차원 (3): 각 픽셀의 색상 정보를 나타내는 RGB 채널 값입니다.\n",
    "\"\"\"\n",
    "# do print\n",
    "print(train_set_x_orig.shape) #(209, 64, 64, 3) # 209 개의 64 by 64 로 정형화된 이미지가 저장되어 있으며, 3은 RGB를 나타낸다.\n",
    "print(train_set_y.shape)\n",
    "print(test_set_x_orig.shape)\n",
    "print(test_set_y.shape)\n",
    "print(classes.shape)"
   ]
  },
  {
   "cell_type": "code",
   "execution_count": 38,
   "metadata": {},
   "outputs": [
    {
     "name": "stdout",
     "output_type": "stream",
     "text": [
      "(1, 64, 64, 3)\n",
      "[0.91510485 0.98304388 0.35784704]\n"
     ]
    }
   ],
   "source": [
    "# 랜덤 숫자 배열 하나를 만들어보기\n",
    "example_data = np.random.rand(1,64,64,3)\n",
    "\"\"\"\n",
    "    - (1,64,64,3) 은 (image 순서, Y, X, RGB 이다.) ## X = 가로, Y = 세로\n",
    "    - 예를 들어 print(example_data[0, 0, 10]) 의 경우 X = 10, Y = 0 을 나타낸다\n",
    "\n",
    "\"\"\"\n",
    "print(example_data.shape) # (1,64,64,3)\n",
    "print(example_data[0,0,10]) # X = 10, Y = 0 위치의 값을 출력하는 코드 이다."
   ]
  },
  {
   "cell_type": "code",
   "execution_count": 45,
   "metadata": {},
   "outputs": [
    {
     "name": "stdout",
     "output_type": "stream",
     "text": [
      "[72 62 22]\n",
      "[ 62 128   8]\n"
     ]
    },
    {
     "data": {
      "text/plain": [
       "<matplotlib.image.AxesImage at 0x2bdecf56bd0>"
      ]
     },
     "execution_count": 45,
     "metadata": {},
     "output_type": "execute_result"
    },
    {
     "data": {
      "image/png": "[encoded data removed]",
      "text/plain": [
       "<Figure size 640x480 with 1 Axes>"
      ]
     },
     "metadata": {},
     "output_type": "display_data"
    }
   ],
   "source": [
    "# 랜덤 이미지 파일을 만들어보기\n",
    "# unsigned 8-bit integer, '유니트팔' 으로 선언하는 이유는 RGB 값이 255개의 값을 가지기 때문이다.\n",
    "\n",
    "#random image\n",
    "# 0 ~ 255 까지의 숫자를 랜덤으로 (64, 64, 3) shape의 배열에 넣어라. \n",
    "# 64 = X, Y 위치정보 이고 3은 RGB 값이다.\n",
    "rd_picture_example_data = np.random.randint(0, 255, (64,64,3), dtype=np.uint8 ) #random color image create\n",
    "\n",
    "#black image\n",
    "bl_image = np.zeros((64, 64, 3), dtype=np.uint8) #8바이트의 정수까지가 RGB의 한계이기 때문에 uint8으로 한다. \n",
    "\n",
    "#white image\n",
    "wh_image = np.full((64, 64, 3), 255, dtype = np.uint8) # white image create\n",
    "\n",
    "\"\"\"\n",
    "    - 3차원 배열이기 때문에 이미지 index를 넣을 필요 없이 Y, X 좌표를 가지고 RGB를 출력할 수 있다. \n",
    "    - 왼쪽 상단(0,0) 부터 우측 하단까지 (63,63) 까지의 범위로 생성되어 있다. \n",
    "\"\"\"\n",
    "print(rd_picture_example_data[0,0])  # 좌측 최상단\n",
    "print(rd_picture_example_data[63,63]) # 우측 최하단\n",
    "plt.imshow(rd_picture_example_data)\n",
    "\n",
    "#plt.imshow(bl_image)\n",
    "#plt.imshow(wh_image)"
   ]
  }
 ],
 "metadata": {
  "kernelspec": {
   "display_name": "Python 3",
   "language": "python",
   "name": "python3"
  },
  "language_info": {
   "codemirror_mode": {
    "name": "ipython",
    "version": 3
   },
   "file_extension": ".py",
   "mimetype": "text/x-python",
   "name": "python",
   "nbconvert_exporter": "python",
   "pygments_lexer": "ipython3",
   "version": "3.11.9"
  }
 },
 "nbformat": 4,
 "nbformat_minor": 2
}
